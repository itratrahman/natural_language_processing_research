{
 "cells": [
  {
   "cell_type": "code",
   "execution_count": 1,
   "metadata": {},
   "outputs": [],
   "source": [
    "import time\n",
    "import os\n",
    "t = time.time()\n",
    "from gensim.models import Word2Vec"
   ]
  },
  {
   "cell_type": "code",
   "execution_count": 2,
   "metadata": {},
   "outputs": [],
   "source": [
    "class MySentences(object):\n",
    "    \n",
    "    def __init__(self, dirname):\n",
    "        self.dirname = dirname\n",
    " \n",
    "    def __iter__(self):\n",
    "        for fname in os.listdir(self.dirname):\n",
    "            for line in open(os.path.join(self.dirname, fname)):\n",
    "                yield line.split()"
   ]
  },
  {
   "cell_type": "code",
   "execution_count": 3,
   "metadata": {},
   "outputs": [
    {
     "name": "stdout",
     "output_type": "stream",
     "text": [
      "Time taken to save model 1: 32.43 mins\n"
     ]
    }
   ],
   "source": [
    "t_start = time.time()\n",
    "size = 50\n",
    "window = 3\n",
    "sentences = MySentences('../reviews')\n",
    "model1 = Word2Vec(sentences, sg = 1, size=size, window=window, min_count=1, workers=8)\n",
    "fname = \"../word2vec_models/word2vec_size_50_window_3.model\"\n",
    "model1. wv.save_word2vec_format(fname)\n",
    "t_end = time.time()\n",
    "print(\"Time taken to save model 1: {:.2f} mins\".format((t_end-t_start)/60))"
   ]
  },
  {
   "cell_type": "code",
   "execution_count": 4,
   "metadata": {},
   "outputs": [
    {
     "name": "stdout",
     "output_type": "stream",
     "text": [
      "Time taken to save model 2: 44.49 mins\n"
     ]
    }
   ],
   "source": [
    "t_start = time.time()\n",
    "size = 50\n",
    "window = 5\n",
    "sentences =  MySentences('../reviews')\n",
    "model1 = Word2Vec(sentences, sg = 1, size=size, window=window, min_count=1, workers=8)\n",
    "fname = \"../word2vec_models/word2vec_size_50_window_5.model\"\n",
    "model1.wv.save_word2vec_format(fname)\n",
    "t_end = time.time()\n",
    "print(\"Time taken to save model 2: {:.2f} mins\".format((t_end-t_start)/60))"
   ]
  },
  {
   "cell_type": "code",
   "execution_count": 5,
   "metadata": {},
   "outputs": [
    {
     "name": "stdout",
     "output_type": "stream",
     "text": [
      "Time taken to save model 3: 56.22 mins\n"
     ]
    }
   ],
   "source": [
    "t_start = time.time()\n",
    "size = 50\n",
    "window = 7\n",
    "sentences = MySentences('../reviews')\n",
    "model1 = Word2Vec(sentences, sg = 1, size=size, window=window, min_count=1, workers=8)\n",
    "fname = \"../word2vec_models/word2vec_size_50_window_7.model\"\n",
    "model1.wv.save_word2vec_format(fname)\n",
    "t_end = time.time()\n",
    "print(\"Time taken to save model 3: {:.2f} mins\".format((t_end-t_start)/60))"
   ]
  }
 ],
 "metadata": {
  "kernelspec": {
   "display_name": "Python 3",
   "language": "python",
   "name": "python3"
  },
  "language_info": {
   "codemirror_mode": {
    "name": "ipython",
    "version": 3
   },
   "file_extension": ".py",
   "mimetype": "text/x-python",
   "name": "python",
   "nbconvert_exporter": "python",
   "pygments_lexer": "ipython3",
   "version": "3.5.2"
  },
  "widgets": {
   "state": {},
   "version": "1.1.2"
  }
 },
 "nbformat": 4,
 "nbformat_minor": 2
}
