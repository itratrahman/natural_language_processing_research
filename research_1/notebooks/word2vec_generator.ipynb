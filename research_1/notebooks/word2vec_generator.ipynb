{
 "cells": [
  {
   "cell_type": "markdown",
   "metadata": {},
   "source": [
    "# WORD2VEC GENERATOR"
   ]
  },
  {
   "cell_type": "markdown",
   "metadata": {},
   "source": [
    "**In this notebook we generate word2vec models of different sized vectors and windows. Use the word2vec_generator function to construct the word2vec models**"
   ]
  },
  {
   "cell_type": "markdown",
   "metadata": {},
   "source": [
    "### Import statements"
   ]
  },
  {
   "cell_type": "code",
   "execution_count": 1,
   "metadata": {},
   "outputs": [],
   "source": [
    "import time\n",
    "import os\n",
    "t = time.time()\n",
    "from gensim.models import Word2Vec"
   ]
  },
  {
   "cell_type": "markdown",
   "metadata": {},
   "source": [
    "### Function to store the sentences in suspended state"
   ]
  },
  {
   "cell_type": "markdown",
   "metadata": {},
   "source": [
    "**This function helps us to avoid loading all of the sentence in runtime**"
   ]
  },
  {
   "cell_type": "code",
   "execution_count": 2,
   "metadata": {},
   "outputs": [],
   "source": [
    "class MySentences(object):\n",
    "    \n",
    "    def __init__(self, dirname):\n",
    "        self.dirname = dirname\n",
    " \n",
    "    def __iter__(self):\n",
    "        for fname in os.listdir(self.dirname):\n",
    "            for line in open(os.path.join(self.dirname, fname)):\n",
    "                yield line.split()"
   ]
  },
  {
   "cell_type": "code",
   "execution_count": 3,
   "metadata": {},
   "outputs": [],
   "source": [
    "sentences = MySentences('../reviews')"
   ]
  },
  {
   "cell_type": "markdown",
   "metadata": {},
   "source": [
    "### Function to word2vec model accordion to specificaiton"
   ]
  },
  {
   "cell_type": "code",
   "execution_count": 4,
   "metadata": {},
   "outputs": [],
   "source": [
    "def word2vec_generator(sentences, size, window, workers, destination_folder = \"../word2vec_models/\"):\n",
    "    \n",
    "    '''a function to generate word2vec model'''    \n",
    "    # create a word2vec model\n",
    "    model = Word2Vec(sentences, sg = 1, size=size, window=window, min_count=1, workers=8)\n",
    "    # file path\n",
    "    fname = destination_folder + \"word2vec_size_\" + str(size) + \"_window_\" + str(window) + \".model\"\n",
    "    # save the model\n",
    "    model. wv.save_word2vec_format(fname)"
   ]
  },
  {
   "cell_type": "markdown",
   "metadata": {},
   "source": [
    "### Create models of different sized vectors & windows"
   ]
  },
  {
   "cell_type": "markdown",
   "metadata": {},
   "source": [
    "**vector size = 50 & window size = 3**"
   ]
  },
  {
   "cell_type": "code",
   "execution_count": 5,
   "metadata": {},
   "outputs": [
    {
     "name": "stdout",
     "output_type": "stream",
     "text": [
      "Time taken to save model 1: 34.20 mins\n"
     ]
    }
   ],
   "source": [
    "t_start = time.time()\n",
    "size = 50\n",
    "window = 3\n",
    "word2vec_generator(sentences, size, window, 8)\n",
    "t_end = time.time()\n",
    "print(\"Time taken to save model 1: {:.2f} mins\".format((t_end-t_start)/60))"
   ]
  },
  {
   "cell_type": "markdown",
   "metadata": {},
   "source": [
    "**vector size = 50 & window size = 5**"
   ]
  },
  {
   "cell_type": "code",
   "execution_count": 5,
   "metadata": {},
   "outputs": [
    {
     "name": "stdout",
     "output_type": "stream",
     "text": [
      "Time taken to save model 2: 46.48 mins\n"
     ]
    }
   ],
   "source": [
    "t_start = time.time()\n",
    "size = 50\n",
    "window = 5\n",
    "word2vec_generator(sentences, size, window, 8)\n",
    "t_end = time.time()\n",
    "print(\"Time taken to save model 2: {:.2f} mins\".format((t_end-t_start)/60))"
   ]
  },
  {
   "cell_type": "markdown",
   "metadata": {},
   "source": [
    "**vector size = 50 & window size = 7**"
   ]
  },
  {
   "cell_type": "code",
   "execution_count": 6,
   "metadata": {},
   "outputs": [
    {
     "name": "stdout",
     "output_type": "stream",
     "text": [
      "Time taken to save model 3: 57.86 mins\n"
     ]
    }
   ],
   "source": [
    "t_start = time.time()\n",
    "size = 50\n",
    "window = 7\n",
    "word2vec_generator(sentences, size, window, 8)\n",
    "t_end = time.time()\n",
    "print(\"Time taken to save model 3: {:.2f} mins\".format((t_end-t_start)/60))"
   ]
  },
  {
   "cell_type": "markdown",
   "metadata": {},
   "source": [
    "**vector size = 100 & window size = 3**"
   ]
  },
  {
   "cell_type": "code",
   "execution_count": 7,
   "metadata": {},
   "outputs": [
    {
     "name": "stdout",
     "output_type": "stream",
     "text": [
      "Time taken to save model 4: 36.29 mins\n"
     ]
    }
   ],
   "source": [
    "t_start = time.time()\n",
    "size = 100\n",
    "window = 3\n",
    "word2vec_generator(sentences, size, window, 8)\n",
    "t_end = time.time()\n",
    "print(\"Time taken to save model 4: {:.2f} mins\".format((t_end-t_start)/60))"
   ]
  },
  {
   "cell_type": "markdown",
   "metadata": {},
   "source": [
    "**vector size = 100 & window size = 5**"
   ]
  },
  {
   "cell_type": "code",
   "execution_count": 8,
   "metadata": {},
   "outputs": [
    {
     "name": "stdout",
     "output_type": "stream",
     "text": [
      "Time taken to save model 5: 49.06 mins\n"
     ]
    }
   ],
   "source": [
    "t_start = time.time()\n",
    "size = 100\n",
    "window = 5\n",
    "word2vec_generator(sentences, size, window, 8)\n",
    "t_end = time.time()\n",
    "print(\"Time taken to save model 5: {:.2f} mins\".format((t_end-t_start)/60))"
   ]
  },
  {
   "cell_type": "markdown",
   "metadata": {},
   "source": [
    "**vector size = 100 & window size = 7**"
   ]
  },
  {
   "cell_type": "code",
   "execution_count": 9,
   "metadata": {},
   "outputs": [
    {
     "name": "stdout",
     "output_type": "stream",
     "text": [
      "Time taken to save model 6: 61.14 mins\n"
     ]
    }
   ],
   "source": [
    "t_start = time.time()\n",
    "size = 100\n",
    "window = 7\n",
    "word2vec_generator(sentences, size, window, 8)\n",
    "t_end = time.time()\n",
    "print(\"Time taken to save model 6: {:.2f} mins\".format((t_end-t_start)/60))"
   ]
  }
 ],
 "metadata": {
  "kernelspec": {
   "display_name": "Python 3",
   "language": "python",
   "name": "python3"
  },
  "language_info": {
   "codemirror_mode": {
    "name": "ipython",
    "version": 3
   },
   "file_extension": ".py",
   "mimetype": "text/x-python",
   "name": "python",
   "nbconvert_exporter": "python",
   "pygments_lexer": "ipython3",
   "version": "3.5.2"
  },
  "widgets": {
   "state": {},
   "version": "1.1.2"
  }
 },
 "nbformat": 4,
 "nbformat_minor": 2
}
